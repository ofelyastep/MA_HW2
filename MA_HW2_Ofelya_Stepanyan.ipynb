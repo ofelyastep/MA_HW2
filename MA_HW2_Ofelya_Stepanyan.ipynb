{
 "cells": [
  {
   "cell_type": "code",
   "execution_count": 1,
   "metadata": {},
   "outputs": [],
   "source": [
    "import matplotlib.pyplot as plt\n",
    "import numpy as np\n",
    "from abc import ABC, abstractmethod\n"
   ]
  },
  {
   "cell_type": "code",
   "execution_count": 2,
   "metadata": {
    "scrolled": true
   },
   "outputs": [],
   "source": [
    "class Bandit(ABC):\n",
    "    \"\"\"\n",
    "    Abstract base class representing a bandit problem.\n",
    "\n",
    "    Attributes:\n",
    "        Bandit_Reward (list): List of rewards for each bandit arm.\n",
    "        NumberOfTrials (int): Number of trials for the bandit.\n",
    "\n",
    "    Methods:\n",
    "        __init__(): Initializes an instance of the Bandit class.\n",
    "        pull(): Abstract method representing action selection for the bandit.\n",
    "\n",
    "    Note:\n",
    "        This is an abstract class and should be inherited to implement specific bandit algorithms.\n",
    "    \"\"\"\n",
    "\n",
    "    Bandit_Reward = [1, 2, 3, 4]\n",
    "    NumberOfTrials = 20000\n",
    "\n",
    "    @abstractmethod\n",
    "    def __init__(self):\n",
    "        \"\"\"Abstract method to initialize an instance of the Bandit class.\"\"\"\n",
    "        pass\n",
    "\n",
    "    @abstractmethod\n",
    "    def pull(self):\n",
    "        \"\"\"Abstract method representing action selection for the bandit.\"\"\"\n",
    "        pass\n",
    "\n"
   ]
  },
  {
   "cell_type": "code",
   "execution_count": 3,
   "metadata": {},
   "outputs": [],
   "source": [
    "class EpsilonGreedy(Bandit):\n",
    "    \n",
    "    \"\"\"\n",
    "    Epsilon-Greedy algorithm for the bandit problem.\n",
    "\n",
    "    Attributes:\n",
    "        epsilon (float): Epsilon value for exploration.\n",
    "        q_values (numpy.array): Estimated action values for each arm.\n",
    "        action_counts (numpy.array): Number of times each action was chosen.\n",
    "\n",
    "    Methods:\n",
    "        __init__(self, epsilon): Initialize an instance of the EpsilonGreedy class.\n",
    "        pull(self): Perform an action selection based on epsilon-greedy strategy.\n",
    "    \"\"\"\n",
    "\n",
    "    def __init__(self, epsilon):\n",
    "        self.epsilon = epsilon\n",
    "        self.q_values = np.zeros(len(Bandit.Bandit_Reward))\n",
    "        self.action_counts = np.zeros(len(Bandit.Bandit_Reward))\n",
    "\n",
    "    def pull(self):\n",
    "        if np.random.random() < self.epsilon:\n",
    "            action = np.random.choice(len(Bandit.Bandit_Reward))\n",
    "        else:\n",
    "            action = np.argmax(self.q_values)\n",
    "        \n",
    "        reward = Bandit.Bandit_Reward[action]\n",
    "        self.action_counts[action] += 1\n",
    "        self.q_values[action] += (reward - self.q_values[action]) / self.action_counts[action]\n",
    "\n",
    "        return reward\n",
    "\n",
    "class ThompsonSampling(Bandit):\n",
    "    \n",
    "    \"\"\"\n",
    "    Thompson Sampling algorithm for the bandit problem.\n",
    "\n",
    "    Attributes:\n",
    "        precision (float): Precision parameter for Beta distribution.\n",
    "        alpha (numpy.array): Alpha parameters for Beta distribution.\n",
    "        beta (numpy.array): Beta parameters for Beta distribution.\n",
    "\n",
    "    Methods:\n",
    "        __init__(self, precision): Initialize an instance of the ThompsonSampling class.\n",
    "        pull(self): Perform an action selection based on Thompson Sampling.\n",
    "    \"\"\"\n",
    "\n",
    "    def __init__(self, precision):\n",
    "        self.precision = precision\n",
    "        self.alpha = np.ones(len(Bandit.Bandit_Reward))\n",
    "        self.beta = np.ones(len(Bandit.Bandit_Reward))\n",
    "\n",
    "    def pull(self):\n",
    "        sampled_theta = np.random.beta(self.alpha, self.beta)\n",
    "        action = np.argmax(sampled_theta)\n",
    "        \n",
    "        reward = Bandit.Bandit_Reward[action]\n",
    "\n",
    "        # Update alpha and beta based on observed reward\n",
    "        if reward == 1:\n",
    "            self.alpha[action] += 1\n",
    "        else:\n",
    "            self.beta[action] += 1\n",
    "\n",
    "        return reward\n",
    "\n",
    "# Example usage\n",
    "epsilon_value = 0.1\n",
    "epsilon_greedy_bandit = EpsilonGreedy(epsilon_value)\n",
    "\n",
    "precision_value = 2.0\n",
    "thompson_sampling_bandit = ThompsonSampling(precision_value)"
   ]
  },
  {
   "cell_type": "code",
   "execution_count": 4,
   "metadata": {},
   "outputs": [],
   "source": [
    "def run_experiment(bandit, num_trials):\n",
    "    \"\"\"\n",
    "    Run an experiment for a specified number of trials with a given bandit.\n",
    "\n",
    "    Args:\n",
    "        bandit: An instance of a bandit class (e.g., EpsilonGreedy, ThompsonSampling).\n",
    "        num_trials (int): The number of trials for the experiment.\n",
    "\n",
    "    Returns:\n",
    "        tuple: A tuple containing rewards and cumulative rewards for each trial.\n",
    "    \"\"\"\n",
    "\n",
    "    rewards = []\n",
    "    cumulative_rewards = [0]\n",
    "\n",
    "    for t in range(num_trials):\n",
    "        reward = bandit.pull()\n",
    "        rewards.append(reward)\n",
    "        cumulative_rewards.append(cumulative_rewards[-1] + reward)\n",
    "\n",
    "    return rewards, cumulative_rewards\n",
    "\n",
    "# Experiment parameters\n",
    "num_trials = Bandit.NumberOfTrials\n",
    "\n",
    "# Run Epsilon-Greedy experiment\n",
    "epsilon_value = 0.1  # Epsilon parameter for Epsilon-Greedy\n",
    "epsilon_greedy_bandit = EpsilonGreedy(epsilon_value)\n",
    "epsilon_greedy_rewards, epsilon_greedy_cumulative_rewards = run_experiment(epsilon_greedy_bandit, num_trials)\n",
    "\n",
    "# Run Thompson Sampling experiment\n",
    "precision_value = 2.0  # Precision parameter for Thompson Sampling\n",
    "thompson_sampling_bandit = ThompsonSampling(precision_value)\n",
    "thompson_sampling_rewards, thompson_sampling_cumulative_rewards = run_experiment(thompson_sampling_bandit, num_trials)\n"
   ]
  },
  {
   "cell_type": "code",
   "execution_count": 5,
   "metadata": {},
   "outputs": [
    {
     "data": {
      "image/png": "[encoded data removed]",
      "text/plain": [
       "<Figure size 720x432 with 1 Axes>"
      ]
     },
     "metadata": {
      "needs_background": "light"
     },
     "output_type": "display_data"
    }
   ],
   "source": [
    "def plot_cumulative_rewards(epsilon_greedy_cumulative_rewards, thompson_sampling_cumulative_rewards):\n",
    "    plt.figure(figsize=(10, 6))\n",
    "    plt.plot(epsilon_greedy_cumulative_rewards, label='Epsilon-Greedy')\n",
    "    plt.plot(thompson_sampling_cumulative_rewards, label='Thompson Sampling')\n",
    "    plt.xlabel('Trials')\n",
    "    plt.ylabel('Cumulative Reward')\n",
    "    plt.legend()\n",
    "    plt.title('Cumulative Rewards: Epsilon-Greedy vs. Thompson Sampling')\n",
    "    plt.show()\n",
    "\n",
    "# Plot cumulative rewards for each algorithm\n",
    "plot_cumulative_rewards(epsilon_greedy_cumulative_rewards, thompson_sampling_cumulative_rewards)\n"
   ]
  },
  {
   "cell_type": "code",
   "execution_count": 6,
   "metadata": {},
   "outputs": [],
   "source": [
    "import csv\n",
    "\n",
    "def save_rewards_to_csv(filename, bandit, rewards, algorithm):\n",
    "    data = zip([bandit] * len(rewards), rewards, [algorithm] * len(rewards))\n",
    "    with open(filename, 'w', newline='') as file:\n",
    "        writer = csv.writer(file)\n",
    "        writer.writerow(['Bandit', 'Reward', 'Algorithm'])\n",
    "        writer.writerows(data)\n",
    "\n",
    "# Save rewards to CSV\n",
    "save_rewards_to_csv('rewards.csv', 'Bandit1', epsilon_greedy_rewards, 'Epsilon-Greedy')\n",
    "save_rewards_to_csv('rewards.csv', 'Bandit1', thompson_sampling_rewards, 'Thompson Sampling')\n",
    "\n"
   ]
  },
  {
   "cell_type": "code",
   "execution_count": 7,
   "metadata": {},
   "outputs": [
    {
     "name": "stdout",
     "output_type": "stream",
     "text": [
      "Cumulative Reward (Epsilon-Greedy): 76869\n",
      "Cumulative Reward (Thompson Sampling): 20009\n"
     ]
    }
   ],
   "source": [
    "print(\"Cumulative Reward (Epsilon-Greedy):\", epsilon_greedy_cumulative_rewards[-1])\n",
    "print(\"Cumulative Reward (Thompson Sampling):\", thompson_sampling_cumulative_rewards[-1])\n"
   ]
  },
  {
   "cell_type": "code",
   "execution_count": 8,
   "metadata": {},
   "outputs": [
    {
     "name": "stdout",
     "output_type": "stream",
     "text": [
      "Cumulative Regret (Epsilon-Greedy): 3131\n",
      "Cumulative Regret (Thompson Sampling): 59991\n"
     ]
    }
   ],
   "source": [
    "max_possible_reward = max(Bandit.Bandit_Reward) * Bandit.NumberOfTrials\n",
    "epsilon_greedy_regret = max_possible_reward - epsilon_greedy_cumulative_rewards[-1]\n",
    "thompson_sampling_regret = max_possible_reward - thompson_sampling_cumulative_rewards[-1]\n",
    "\n",
    "print(\"Cumulative Regret (Epsilon-Greedy):\", epsilon_greedy_regret)\n",
    "print(\"Cumulative Regret (Thompson Sampling):\", thompson_sampling_regret)\n"
   ]
  },
  {
   "cell_type": "code",
   "execution_count": null,
   "metadata": {},
   "outputs": [],
   "source": []
  }
 ],
 "metadata": {
  "kernelspec": {
   "display_name": "Python 3",
   "language": "python",
   "name": "python3"
  },
  "language_info": {
   "codemirror_mode": {
    "name": "ipython",
    "version": 3
   },
   "file_extension": ".py",
   "mimetype": "text/x-python",
   "name": "python",
   "nbconvert_exporter": "python",
   "pygments_lexer": "ipython3",
   "version": "3.8.5"
  }
 },
 "nbformat": 4,
 "nbformat_minor": 4
}
